{
  "nbformat": 4,
  "nbformat_minor": 0,
  "metadata": {
    "colab": {
      "name": "cadastro de anuncios",
      "provenance": [],
      "collapsed_sections": [],
      "authorship_tag": "ABX9TyPdLi9PxpRsdt7NbIq646P8",
      "include_colab_link": true
    },
    "kernelspec": {
      "name": "python3",
      "display_name": "Python 3"
    },
    "language_info": {
      "name": "python"
    }
  },
  "cells": [
    {
      "cell_type": "markdown",
      "metadata": {
        "id": "view-in-github",
        "colab_type": "text"
      },
      "source": [
        "<a href=\"https://colab.research.google.com/github/marilia-cuenca/Academia-Capgemini/blob/main/cadastro_de_anuncios.ipynb\" target=\"_parent\"><img src=\"https://colab.research.google.com/assets/colab-badge.svg\" alt=\"Open In Colab\"/></a>"
      ]
    },
    {
      "cell_type": "code",
      "metadata": {
        "id": "63BHl0CMvybu"
      },
      "source": [
        "import datetime\n",
        "from math import ceil\n",
        "\n",
        "#Crie um sistema que permita o cadastro de anúncios. O anúncio deverá conter os seguintes dados:\n",
        "anuncio = str(input('Digite o nome do anúncio: '))\n",
        "cliente = str(input('Digite o nome do cliente: '))\n",
        "d1 = int(input('Digite o dia de início do anúncio: '))\n",
        "m1 = int(input('Digite o mês de início do anúncio: '))\n",
        "a1 = int(input('Digite o ano de início do anúncio: '))\n",
        "d2 = int(input('Digite o dia de término do anúncio: '))\n",
        "m2 = int(input('Digite o mês de término do anúncio: '))\n",
        "a2 = int(input('Digite o ano de término do anúncio: '))\n",
        "investimento_diario = float(input('Digite o investimento diário: R$ '))\n",
        "\n",
        "inicio = datetime.date(day=d1, month=m1, year=a1)\n",
        "termino = datetime.date(day=d2, month=m2, year=a2)\n",
        "intervalo = (termino - inicio).days\n",
        "\n",
        "#Visualizações:\n",
        "original = investimento_diario * 30 + (((30 / 3.6) * 0.54) * 40)\n",
        "primeiro = (original - (investimento_diario * 30)) * (40 * 0.12) * 0.15\n",
        "segundo = primeiro * (40 * 0.12) * 0.15\n",
        "terceiro = segundo * (40 * 0.12) * 0.15\n",
        "visualizaçao = ceil((original + primeiro + segundo + terceiro) * intervalo)\n",
        "\n",
        "#Valor total investido:\n",
        "investimento = investimento_diario * intervalo\n",
        "\n",
        "#Cliques:\n",
        "cliques = ceil((investimento_diario * (12/100)*30) * intervalo)\n",
        "\n",
        "#Compartilhamento:\n",
        "compartilhamento = ceil((investimento_diario * (15/100)*3.6) * intervalo)\n",
        "\n",
        "#O sistema fornecerá os relatórios de cada anúncio contendo:\n",
        "print(f'Anúncio: {anuncio}')\n",
        "print(f'Cliente: {cliente}')\n",
        "print('Intervalo de tempo: {:.0f} dias'.format(intervalo))\n",
        "print('Valor total investido: R$ {:.2f}'.format(investimento))\n",
        "print('Quantidade máxima de visualizações: {:.0f}'.format(visualizaçao))\n",
        "print('Quantidade máxima de cliques: {:.0f}'.format(cliques))\n",
        "print('Quantidade máxima de compartilhamentos: {:.0f}'.format(compartilhamento))"
      ],
      "execution_count": null,
      "outputs": []
    }
  ]
}