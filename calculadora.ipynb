{
  "nbformat": 4,
  "nbformat_minor": 0,
  "metadata": {
    "colab": {
      "name": "calculadora",
      "provenance": [],
      "collapsed_sections": [],
      "authorship_tag": "ABX9TyO9h6ePyo/I6C7Z1oQs17u1",
      "include_colab_link": true
    },
    "kernelspec": {
      "name": "python3",
      "display_name": "Python 3"
    },
    "language_info": {
      "name": "python"
    }
  },
  "cells": [
    {
      "cell_type": "markdown",
      "metadata": {
        "id": "view-in-github",
        "colab_type": "text"
      },
      "source": [
        "<a href=\"https://colab.research.google.com/github/marilia-cuenca/Academia-Capgemini/blob/main/calculadora.ipynb\" target=\"_parent\"><img src=\"https://colab.research.google.com/assets/colab-badge.svg\" alt=\"Open In Colab\"/></a>"
      ]
    },
    {
      "cell_type": "code",
      "metadata": {
        "id": "ofS1BKZPZTgL"
      },
      "source": [
        "'''\n",
        "a cada 100 pessoas que visualizam o anúncio 12 clicam nele.\n",
        "30 pessoas visualizam o anúncio original (não compartilhado) a cada R$ 1,00 investido.\n",
        "a cada 20 pessoas que clicam no anúncio 3 compartilham nas redes sociais.\n",
        "cada compartilhamento nas redes sociais gera 40 novas visualizações.\n",
        "o mesmo anúncio é compartilhado no máximo 4 vezes em sequência\n",
        "'''\n",
        "#30/3.6 == 12% clicam no anúncio -> 15% de 12% compartilha -> * 40 novas visualizações -> 12% das 40 novas visualiazações, clicam no anúncio -> ciclo\n",
        "#visualizacao = (100*20)/12 == 166 (enquanto 166 pessoas vizualizam, 20 delas clicam no anúncio.)\n",
        "#cliques = (12/100)*30 == 3.6 (12% das pessoas clicam no anúncio após visualizarem, e 30 pessoas visualizam o anúncio original)\n",
        "#compartilhamento = (15/100)*3.6 == 0.54 (15% das pessoas compartilham nas redes sociais após clicarem no anúncio)\n"
      ],
      "execution_count": null,
      "outputs": []
    },
    {
      "cell_type": "code",
      "metadata": {
        "id": "WDHtFonZTz_a"
      },
      "source": [
        "from math import ceil\n",
        "investimento = float(input('Qual é o valor investido para o anúncio? R$ '))\n",
        "original = investimento * 30 + (((30 / 3.6) * 0.54) * 40)\n",
        "primeiro = (original - (investimento * 30)) * (40 * 0.12) * 0.15\n",
        "segundo = primeiro * (40 * 0.12) * 0.15\n",
        "terceiro = segundo * (40 * 0.12) * 0.15\n",
        "projecao = ceil(original + primeiro + segundo + terceiro)\n",
        "print('A projeção da quantidade máxima de pessoas que visualizarão o mesmo anúncio é de: {:.0f}'.format(projecao))\n"
      ],
      "execution_count": null,
      "outputs": []
    }
  ]
}